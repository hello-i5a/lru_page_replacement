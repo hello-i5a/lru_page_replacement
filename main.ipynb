{
 "cells": [
  {
   "cell_type": "code",
   "execution_count": 18,
   "metadata": {},
   "outputs": [
    {
     "name": "stdout",
     "output_type": "stream",
     "text": [
      "Page sequence: [1, 2, 3, 1, 2, 4, 5]\n",
      "Page hits: 2\n",
      "Page faults: 5\n",
      "Hit ratio: 0.29\n",
      "Fault ratio: 0.71\n"
     ]
    },
    {
     "data": {
      "image/png": "[encoded data removed]",
      "text/plain": [
       "<Figure size 1000x600 with 1 Axes>"
      ]
     },
     "metadata": {},
     "output_type": "display_data"
    }
   ],
   "source": [
    "import pandas as pd\n",
    "import matplotlib.pyplot as plt\n",
    "from matplotlib.colors import ListedColormap\n",
    "\n",
    "class LRUPageReplacement:\n",
    "    def __init__(self, num_frames):\n",
    "        self.num_frames = num_frames\n",
    "        self.frames = []\n",
    "        self.page_faults = 0\n",
    "        self.page_hits = 0\n",
    "        self.page_sequence = []\n",
    "        self.page_steps = []\n",
    "\n",
    "    def access_page(self, page):\n",
    "        step = {\"Page\": page, \"Hit/Fault\": \"Fault\"}\n",
    "        \n",
    "        # Track the current state of frames\n",
    "        frame_state = list(self.frames)\n",
    "        \n",
    "        if page in self.frames:\n",
    "            # Page hit: move the page to the most recently used\n",
    "            self.page_hits += 1\n",
    "            step[\"Hit/Fault\"] = \"Hit\"\n",
    "            self.page_steps.append((page, frame_state, \"Hit\"))\n",
    "            # Move the page to the end (most recently used)\n",
    "            self.frames.remove(page)\n",
    "            self.frames.append(page)\n",
    "            return\n",
    "        \n",
    "        # Page fault: add the page or replace the least recently used page\n",
    "        if len(self.frames) < self.num_frames:\n",
    "            self.frames.append(page)\n",
    "        else:\n",
    "            self.frames.pop(0)  # Remove the least recently used page\n",
    "            self.frames.append(page)\n",
    "        \n",
    "        self.page_faults += 1\n",
    "        self.page_steps.append((page, frame_state, \"Fault\"))\n",
    "\n",
    "    def simulate(self, page_sequence):\n",
    "        self.page_sequence = page_sequence\n",
    "        for page in page_sequence:\n",
    "            self.access_page(page)\n",
    "\n",
    "    def print_results(self):\n",
    "        print(f\"Page sequence: {self.page_sequence}\")\n",
    "        print(f\"Page hits: {self.page_hits}\")\n",
    "        print(f\"Page faults: {self.page_faults}\")\n",
    "        print(f\"Hit ratio: {self.page_hits / len(self.page_sequence):.2f}\")\n",
    "        print(f\"Fault ratio: {self.page_faults / len(self.page_sequence):.2f}\")\n",
    "\n",
    "    def display_table(self):\n",
    "        # Create DataFrame with steps for displaying\n",
    "        data = []\n",
    "        for page, frame_state, hit_fault in self.page_steps:\n",
    "            row = {'Page': page}\n",
    "            # Fill in frame columns (F1, F2, ..., Fn)\n",
    "            for i in range(self.num_frames):\n",
    "                row[f\"F{i+1}\"] = frame_state[i] if i < len(frame_state) else \"\"\n",
    "            row['Hit/Fault'] = hit_fault\n",
    "            data.append(row)\n",
    "\n",
    "        df = pd.DataFrame(data)\n",
    "        \n",
    "        # Create a custom color map for frames (Faults in red, Hits in green)\n",
    "        cmap = ListedColormap(['red', 'green'])\n",
    "        \n",
    "        # Create a figure and axis for the table\n",
    "        fig, ax = plt.subplots(figsize=(10, 6))  # Set table size\n",
    "        ax.axis('off')  # Hide axes\n",
    "        \n",
    "        # Create the table\n",
    "        table = ax.table(cellText=df.values, colLabels=df.columns, loc='center', cellLoc='center')\n",
    "        table.auto_set_font_size(False)\n",
    "        table.set_fontsize(12)\n",
    "        \n",
    "        # Apply color to the frame columns (F1, F2, ..., Fn)\n",
    "        for i, (page, frame_state, hit_fault) in enumerate(self.page_steps):\n",
    "            for j in range(self.num_frames):\n",
    "                # Color the frames red for faults, green for hits\n",
    "                color_idx = 1 if hit_fault == \"Hit\" else 0\n",
    "                table[(i + 1, j + 1)].set_facecolor(cmap(color_idx))  # Set color for each frame cell\n",
    "            # Color the \"Hit/Fault\" column\n",
    "            table[(i + 1, self.num_frames + 1)].set_facecolor(cmap(1 if hit_fault == \"Hit\" else 0))\n",
    "        \n",
    "        # Show the table\n",
    "        plt.show()\n",
    "\n",
    "\n",
    "# Get user input for the simulation\n",
    "num_frames = int(input(\"Enter the number of frames: \"))\n",
    "page_sequence_input = input(\"Enter the page reference string (space-separated): \")\n",
    "page_sequence = list(map(int, page_sequence_input.split()))\n",
    "\n",
    "# Initialize the LRU Page Replacement\n",
    "lru = LRUPageReplacement(num_frames)\n",
    "\n",
    "# Simulate the page replacement\n",
    "lru.simulate(page_sequence)\n",
    "\n",
    "# Print results\n",
    "lru.print_results()\n",
    "\n",
    "# Display the table showing the page replacement process\n",
    "lru.display_table()"
   ]
  },
  {
   "cell_type": "code",
   "execution_count": 19,
   "metadata": {},
   "outputs": [
    {
     "name": "stdout",
     "output_type": "stream",
     "text": [
      "Page sequence: [1, 2, 3, 1, 2, 4, 5]\n",
      "Page hits: 2\n",
      "Page faults: 5\n",
      "Hit ratio: 0.29\n",
      "Fault ratio: 0.71\n"
     ]
    },
    {
     "data": {
      "image/png": "[encoded data removed]",
      "text/plain": [
       "<Figure size 1000x600 with 1 Axes>"
      ]
     },
     "metadata": {},
     "output_type": "display_data"
    }
   ],
   "source": [
    "import pandas as pd\n",
    "import matplotlib.pyplot as plt\n",
    "from matplotlib.colors import ListedColormap\n",
    "\n",
    "class LRUPageReplacement:\n",
    "    def __init__(self, num_frames):\n",
    "        self.num_frames = num_frames\n",
    "        self.frames = []\n",
    "        self.page_faults = 0\n",
    "        self.page_hits = 0\n",
    "        self.page_sequence = []\n",
    "        self.page_steps = []\n",
    "\n",
    "    def access_page(self, page):\n",
    "        step = {\"Page\": page, \"Hit/Fault\": \"Fault\"}\n",
    "        \n",
    "        # Track the current state of frames\n",
    "        frame_state = list(self.frames)\n",
    "        \n",
    "        if page in self.frames:\n",
    "            # Page hit: move the page to the most recently used\n",
    "            self.page_hits += 1\n",
    "            step[\"Hit/Fault\"] = \"Hit\"\n",
    "            self.page_steps.append((page, frame_state, \"Hit\"))\n",
    "            # Move the page to the end (most recently used)\n",
    "            self.frames.remove(page)\n",
    "            self.frames.append(page)\n",
    "            return\n",
    "        \n",
    "        # Page fault: add the page or replace the least recently used page\n",
    "        if len(self.frames) < self.num_frames:\n",
    "            self.frames.append(page)\n",
    "        else:\n",
    "            self.frames.pop(0)  # Remove the least recently used page\n",
    "            self.frames.append(page)\n",
    "        \n",
    "        self.page_faults += 1\n",
    "        self.page_steps.append((page, frame_state, \"Fault\"))\n",
    "\n",
    "    def simulate(self, page_sequence):\n",
    "        self.page_sequence = page_sequence\n",
    "        for page in page_sequence:\n",
    "            self.access_page(page)\n",
    "\n",
    "    def print_results(self):\n",
    "        print(f\"Page sequence: {self.page_sequence}\")\n",
    "        print(f\"Page hits: {self.page_hits}\")\n",
    "        print(f\"Page faults: {self.page_faults}\")\n",
    "        print(f\"Hit ratio: {self.page_hits / len(self.page_sequence):.2f}\")\n",
    "        print(f\"Fault ratio: {self.page_faults / len(self.page_sequence):.2f}\")\n",
    "\n",
    "    def display_table(self):\n",
    "        # Create DataFrame with steps for displaying\n",
    "        data = []\n",
    "        for page, frame_state, hit_fault in self.page_steps:\n",
    "            row = {'Page': page}\n",
    "            # Fill in frame columns (F1, F2, ..., Fn)\n",
    "            for i in range(self.num_frames):\n",
    "                row[f\"F{i+1}\"] = frame_state[i] if i < len(frame_state) else \"\"\n",
    "            row['Hit/Fault'] = hit_fault\n",
    "            data.append(row)\n",
    "\n",
    "        df = pd.DataFrame(data)\n",
    "        \n",
    "        # Create a custom color map for frames (Faults in red, Hits in white or no color)\n",
    "        cmap = ListedColormap(['red', 'white'])\n",
    "        \n",
    "        # Create a figure and axis for the table\n",
    "        fig, ax = plt.subplots(figsize=(10, 6))  # Set table size\n",
    "        ax.axis('off')  # Hide axes\n",
    "        \n",
    "        # Create the table\n",
    "        table = ax.table(cellText=df.values, colLabels=df.columns, loc='center', cellLoc='center')\n",
    "        table.auto_set_font_size(False)\n",
    "        table.set_fontsize(12)\n",
    "        \n",
    "        # Apply color to the frame columns (F1, F2, ..., Fn) based on page fault\n",
    "        for i, (page, frame_state, hit_fault) in enumerate(self.page_steps):\n",
    "            for j in range(self.num_frames):\n",
    "                # Only color the frames involved in the page fault\n",
    "                if hit_fault == \"Fault\" and j < len(frame_state) and frame_state[j] == page:\n",
    "                    table[(i + 1, j + 1)].set_facecolor(cmap(0))  # Set red color for fault cells\n",
    "                else:\n",
    "                    table[(i + 1, j + 1)].set_facecolor(cmap(1))  # No color for non-fault cells\n",
    "            # Color the \"Hit/Fault\" column\n",
    "            table[(i + 1, self.num_frames + 1)].set_facecolor(cmap(1 if hit_fault == \"Hit\" else 0))\n",
    "        \n",
    "        # Show the table\n",
    "        plt.show()\n",
    "\n",
    "\n",
    "# Get user input for the simulation\n",
    "num_frames = int(input(\"Enter the number of frames: \"))\n",
    "page_sequence_input = input(\"Enter the page reference string (space-separated): \")\n",
    "page_sequence = list(map(int, page_sequence_input.split()))\n",
    "\n",
    "# Initialize the LRU Page Replacement\n",
    "lru = LRUPageReplacement(num_frames)\n",
    "\n",
    "# Simulate the page replacement\n",
    "lru.simulate(page_sequence)\n",
    "\n",
    "# Print results\n",
    "lru.print_results()\n",
    "\n",
    "# Display the table showing the page replacement process\n",
    "lru.display_table()"
   ]
  },
  {
   "cell_type": "code",
   "execution_count": 22,
   "metadata": {},
   "outputs": [
    {
     "name": "stdout",
     "output_type": "stream",
     "text": [
      "Page sequence: [1, 2, 3, 1, 2, 4, 5]\n",
      "Page hits: 2\n",
      "Page faults: 5\n",
      "Hit ratio: 0.29\n",
      "Fault ratio: 0.71\n"
     ]
    },
    {
     "data": {
      "image/png": "[encoded data removed]",
      "text/plain": [
       "<Figure size 1000x600 with 1 Axes>"
      ]
     },
     "metadata": {},
     "output_type": "display_data"
    }
   ],
   "source": [
    "import pandas as pd\n",
    "import matplotlib.pyplot as plt\n",
    "\n",
    "class LRUPageReplacement:\n",
    "    def __init__(self, num_frames):\n",
    "        self.num_frames = num_frames\n",
    "        self.frames = []\n",
    "        self.page_faults = 0\n",
    "        self.page_hits = 0\n",
    "        self.page_sequence = []\n",
    "        self.page_steps = []\n",
    "\n",
    "    def access_page(self, page):\n",
    "        step = {\"Page\": page, \"Hit/Fault\": \"Fault\"}\n",
    "        \n",
    "        # Track the current state of frames\n",
    "        frame_state = list(self.frames)\n",
    "        \n",
    "        if page in self.frames:\n",
    "            # Page hit: move the page to the most recently used\n",
    "            self.page_hits += 1\n",
    "            step[\"Hit/Fault\"] = \"Hit\"\n",
    "            self.page_steps.append((page, frame_state, \"Hit\"))\n",
    "            # Move the page to the end (most recently used)\n",
    "            self.frames.remove(page)\n",
    "            self.frames.append(page)\n",
    "            return\n",
    "        \n",
    "        # Page fault: add the page or replace the least recently used page\n",
    "        if len(self.frames) < self.num_frames:\n",
    "            self.frames.append(page)\n",
    "        else:\n",
    "            self.frames.pop(0)  # Remove the least recently used page\n",
    "            self.frames.append(page)\n",
    "        \n",
    "        self.page_faults += 1\n",
    "        self.page_steps.append((page, frame_state, \"Fault\"))\n",
    "\n",
    "    def simulate(self, page_sequence):\n",
    "        self.page_sequence = page_sequence\n",
    "        for page in page_sequence:\n",
    "            self.access_page(page)\n",
    "\n",
    "    def print_results(self):\n",
    "        print(f\"Page sequence: {self.page_sequence}\")\n",
    "        print(f\"Page hits: {self.page_hits}\")\n",
    "        print(f\"Page faults: {self.page_faults}\")\n",
    "        print(f\"Hit ratio: {self.page_hits / len(self.page_sequence):.2f}\")\n",
    "        print(f\"Fault ratio: {self.page_faults / len(self.page_sequence):.2f}\")\n",
    "\n",
    "    def display_table(self):\n",
    "        # Create DataFrame with steps for displaying\n",
    "        data = []\n",
    "        for page, frame_state, hit_fault in self.page_steps:\n",
    "            row = {'Page': page}\n",
    "            # Fill in frame columns (F1, F2, ..., Fn)\n",
    "            for i in range(self.num_frames):\n",
    "                row[f\"F{i+1}\"] = frame_state[i] if i < len(frame_state) else \"\"\n",
    "            row['Hit/Fault'] = hit_fault\n",
    "            data.append(row)\n",
    "\n",
    "        df = pd.DataFrame(data)\n",
    "\n",
    "        # Create a figure and axis for the table\n",
    "        fig, ax = plt.subplots(figsize=(10, 6))  # Set table size\n",
    "        ax.axis('off')  # Hide axes\n",
    "        \n",
    "        # Create the table\n",
    "        table = ax.table(cellText=df.values, colLabels=df.columns, loc='center', cellLoc='center')\n",
    "        table.auto_set_font_size(False)\n",
    "        table.set_fontsize(12)\n",
    "        \n",
    "        # Show the table\n",
    "        plt.show()\n",
    "\n",
    "\n",
    "# Get user input for the simulation\n",
    "num_frames = int(input(\"Enter the number of frames: \"))\n",
    "page_sequence_input = input(\"Enter the page reference string (space-separated): \")\n",
    "page_sequence = list(map(int, page_sequence_input.split()))\n",
    "\n",
    "# Initialize the LRU Page Replacement\n",
    "lru = LRUPageReplacement(num_frames)\n",
    "\n",
    "# Simulate the page replacement\n",
    "lru.simulate(page_sequence)\n",
    "\n",
    "# Print results\n",
    "lru.print_results()\n",
    "\n",
    "# Display the table showing the page replacement process\n",
    "lru.display_table()"
   ]
  },
  {
   "cell_type": "code",
   "execution_count": 23,
   "metadata": {},
   "outputs": [
    {
     "name": "stdout",
     "output_type": "stream",
     "text": [
      "Page sequence: [1, 2, 3, 1, 2, 4, 5]\n",
      "Page hits: 2\n",
      "Page faults: 5\n",
      "Hit ratio: 0.29\n",
      "Fault ratio: 0.71\n"
     ]
    },
    {
     "data": {
      "application/vnd.plotly.v1+json": {
       "config": {
        "plotlyServerURL": "https://plot.ly"
       },
       "data": [
        {
         "cells": {
          "align": "center",
          "fill": {
           "color": "lavender"
          },
          "values": [
           [
            1,
            2,
            3,
            1,
            2,
            4,
            5
           ],
           [
            "",
            1,
            1,
            1,
            2,
            3,
            1
           ],
           [
            "",
            "",
            2,
            2,
            3,
            1,
            2
           ],
           [
            "",
            "",
            "",
            3,
            1,
            2,
            4
           ],
           [
            "Fault",
            "Fault",
            "Fault",
            "Hit",
            "Hit",
            "Fault",
            "Fault"
           ]
          ]
         },
         "header": {
          "align": "center",
          "fill": {
           "color": "paleturquoise"
          },
          "values": [
           "Page",
           "F1",
           "F2",
           "F3",
           "Hit/Fault"
          ]
         },
         "type": "table"
        }
       ],
       "layout": {
        "height": 400,
        "template": {
         "data": {
          "bar": [
           {
            "error_x": {
             "color": "#2a3f5f"
            },
            "error_y": {
             "color": "#2a3f5f"
            },
            "marker": {
             "line": {
              "color": "#E5ECF6",
              "width": 0.5
             },
             "pattern": {
              "fillmode": "overlay",
              "size": 10,
              "solidity": 0.2
             }
            },
            "type": "bar"
           }
          ],
          "barpolar": [
           {
            "marker": {
             "line": {
              "color": "#E5ECF6",
              "width": 0.5
             },
             "pattern": {
              "fillmode": "overlay",
              "size": 10,
              "solidity": 0.2
             }
            },
            "type": "barpolar"
           }
          ],
          "carpet": [
           {
            "aaxis": {
             "endlinecolor": "#2a3f5f",
             "gridcolor": "white",
             "linecolor": "white",
             "minorgridcolor": "white",
             "startlinecolor": "#2a3f5f"
            },
            "baxis": {
             "endlinecolor": "#2a3f5f",
             "gridcolor": "white",
             "linecolor": "white",
             "minorgridcolor": "white",
             "startlinecolor": "#2a3f5f"
            },
            "type": "carpet"
           }
          ],
          "choropleth": [
           {
            "colorbar": {
             "outlinewidth": 0,
             "ticks": ""
            },
            "type": "choropleth"
           }
          ],
          "contour": [
           {
            "colorbar": {
             "outlinewidth": 0,
             "ticks": ""
            },
            "colorscale": [
             [
              0,
              "#0d0887"
             ],
             [
              0.1111111111111111,
              "#46039f"
             ],
             [
              0.2222222222222222,
              "#7201a8"
             ],
             [
              0.3333333333333333,
              "#9c179e"
             ],
             [
              0.4444444444444444,
              "#bd3786"
             ],
             [
              0.5555555555555556,
              "#d8576b"
             ],
             [
              0.6666666666666666,
              "#ed7953"
             ],
             [
              0.7777777777777778,
              "#fb9f3a"
             ],
             [
              0.8888888888888888,
              "#fdca26"
             ],
             [
              1,
              "#f0f921"
             ]
            ],
            "type": "contour"
           }
          ],
          "contourcarpet": [
           {
            "colorbar": {
             "outlinewidth": 0,
             "ticks": ""
            },
            "type": "contourcarpet"
           }
          ],
          "heatmap": [
           {
            "colorbar": {
             "outlinewidth": 0,
             "ticks": ""
            },
            "colorscale": [
             [
              0,
              "#0d0887"
             ],
             [
              0.1111111111111111,
              "#46039f"
             ],
             [
              0.2222222222222222,
              "#7201a8"
             ],
             [
              0.3333333333333333,
              "#9c179e"
             ],
             [
              0.4444444444444444,
              "#bd3786"
             ],
             [
              0.5555555555555556,
              "#d8576b"
             ],
             [
              0.6666666666666666,
              "#ed7953"
             ],
             [
              0.7777777777777778,
              "#fb9f3a"
             ],
             [
              0.8888888888888888,
              "#fdca26"
             ],
             [
              1,
              "#f0f921"
             ]
            ],
            "type": "heatmap"
           }
          ],
          "heatmapgl": [
           {
            "colorbar": {
             "outlinewidth": 0,
             "ticks": ""
            },
            "colorscale": [
             [
              0,
              "#0d0887"
             ],
             [
              0.1111111111111111,
              "#46039f"
             ],
             [
              0.2222222222222222,
              "#7201a8"
             ],
             [
              0.3333333333333333,
              "#9c179e"
             ],
             [
              0.4444444444444444,
              "#bd3786"
             ],
             [
              0.5555555555555556,
              "#d8576b"
             ],
             [
              0.6666666666666666,
              "#ed7953"
             ],
             [
              0.7777777777777778,
              "#fb9f3a"
             ],
             [
              0.8888888888888888,
              "#fdca26"
             ],
             [
              1,
              "#f0f921"
             ]
            ],
            "type": "heatmapgl"
           }
          ],
          "histogram": [
           {
            "marker": {
             "pattern": {
              "fillmode": "overlay",
              "size": 10,
              "solidity": 0.2
             }
            },
            "type": "histogram"
           }
          ],
          "histogram2d": [
           {
            "colorbar": {
             "outlinewidth": 0,
             "ticks": ""
            },
            "colorscale": [
             [
              0,
              "#0d0887"
             ],
             [
              0.1111111111111111,
              "#46039f"
             ],
             [
              0.2222222222222222,
              "#7201a8"
             ],
             [
              0.3333333333333333,
              "#9c179e"
             ],
             [
              0.4444444444444444,
              "#bd3786"
             ],
             [
              0.5555555555555556,
              "#d8576b"
             ],
             [
              0.6666666666666666,
              "#ed7953"
             ],
             [
              0.7777777777777778,
              "#fb9f3a"
             ],
             [
              0.8888888888888888,
              "#fdca26"
             ],
             [
              1,
              "#f0f921"
             ]
            ],
            "type": "histogram2d"
           }
          ],
          "histogram2dcontour": [
           {
            "colorbar": {
             "outlinewidth": 0,
             "ticks": ""
            },
            "colorscale": [
             [
              0,
              "#0d0887"
             ],
             [
              0.1111111111111111,
              "#46039f"
             ],
             [
              0.2222222222222222,
              "#7201a8"
             ],
             [
              0.3333333333333333,
              "#9c179e"
             ],
             [
              0.4444444444444444,
              "#bd3786"
             ],
             [
              0.5555555555555556,
              "#d8576b"
             ],
             [
              0.6666666666666666,
              "#ed7953"
             ],
             [
              0.7777777777777778,
              "#fb9f3a"
             ],
             [
              0.8888888888888888,
              "#fdca26"
             ],
             [
              1,
              "#f0f921"
             ]
            ],
            "type": "histogram2dcontour"
           }
          ],
          "mesh3d": [
           {
            "colorbar": {
             "outlinewidth": 0,
             "ticks": ""
            },
            "type": "mesh3d"
           }
          ],
          "parcoords": [
           {
            "line": {
             "colorbar": {
              "outlinewidth": 0,
              "ticks": ""
             }
            },
            "type": "parcoords"
           }
          ],
          "pie": [
           {
            "automargin": true,
            "type": "pie"
           }
          ],
          "scatter": [
           {
            "fillpattern": {
             "fillmode": "overlay",
             "size": 10,
             "solidity": 0.2
            },
            "type": "scatter"
           }
          ],
          "scatter3d": [
           {
            "line": {
             "colorbar": {
              "outlinewidth": 0,
              "ticks": ""
             }
            },
            "marker": {
             "colorbar": {
              "outlinewidth": 0,
              "ticks": ""
             }
            },
            "type": "scatter3d"
           }
          ],
          "scattercarpet": [
           {
            "marker": {
             "colorbar": {
              "outlinewidth": 0,
              "ticks": ""
             }
            },
            "type": "scattercarpet"
           }
          ],
          "scattergeo": [
           {
            "marker": {
             "colorbar": {
              "outlinewidth": 0,
              "ticks": ""
             }
            },
            "type": "scattergeo"
           }
          ],
          "scattergl": [
           {
            "marker": {
             "colorbar": {
              "outlinewidth": 0,
              "ticks": ""
             }
            },
            "type": "scattergl"
           }
          ],
          "scattermapbox": [
           {
            "marker": {
             "colorbar": {
              "outlinewidth": 0,
              "ticks": ""
             }
            },
            "type": "scattermapbox"
           }
          ],
          "scatterpolar": [
           {
            "marker": {
             "colorbar": {
              "outlinewidth": 0,
              "ticks": ""
             }
            },
            "type": "scatterpolar"
           }
          ],
          "scatterpolargl": [
           {
            "marker": {
             "colorbar": {
              "outlinewidth": 0,
              "ticks": ""
             }
            },
            "type": "scatterpolargl"
           }
          ],
          "scatterternary": [
           {
            "marker": {
             "colorbar": {
              "outlinewidth": 0,
              "ticks": ""
             }
            },
            "type": "scatterternary"
           }
          ],
          "surface": [
           {
            "colorbar": {
             "outlinewidth": 0,
             "ticks": ""
            },
            "colorscale": [
             [
              0,
              "#0d0887"
             ],
             [
              0.1111111111111111,
              "#46039f"
             ],
             [
              0.2222222222222222,
              "#7201a8"
             ],
             [
              0.3333333333333333,
              "#9c179e"
             ],
             [
              0.4444444444444444,
              "#bd3786"
             ],
             [
              0.5555555555555556,
              "#d8576b"
             ],
             [
              0.6666666666666666,
              "#ed7953"
             ],
             [
              0.7777777777777778,
              "#fb9f3a"
             ],
             [
              0.8888888888888888,
              "#fdca26"
             ],
             [
              1,
              "#f0f921"
             ]
            ],
            "type": "surface"
           }
          ],
          "table": [
           {
            "cells": {
             "fill": {
              "color": "#EBF0F8"
             },
             "line": {
              "color": "white"
             }
            },
            "header": {
             "fill": {
              "color": "#C8D4E3"
             },
             "line": {
              "color": "white"
             }
            },
            "type": "table"
           }
          ]
         },
         "layout": {
          "annotationdefaults": {
           "arrowcolor": "#2a3f5f",
           "arrowhead": 0,
           "arrowwidth": 1
          },
          "autotypenumbers": "strict",
          "coloraxis": {
           "colorbar": {
            "outlinewidth": 0,
            "ticks": ""
           }
          },
          "colorscale": {
           "diverging": [
            [
             0,
             "#8e0152"
            ],
            [
             0.1,
             "#c51b7d"
            ],
            [
             0.2,
             "#de77ae"
            ],
            [
             0.3,
             "#f1b6da"
            ],
            [
             0.4,
             "#fde0ef"
            ],
            [
             0.5,
             "#f7f7f7"
            ],
            [
             0.6,
             "#e6f5d0"
            ],
            [
             0.7,
             "#b8e186"
            ],
            [
             0.8,
             "#7fbc41"
            ],
            [
             0.9,
             "#4d9221"
            ],
            [
             1,
             "#276419"
            ]
           ],
           "sequential": [
            [
             0,
             "#0d0887"
            ],
            [
             0.1111111111111111,
             "#46039f"
            ],
            [
             0.2222222222222222,
             "#7201a8"
            ],
            [
             0.3333333333333333,
             "#9c179e"
            ],
            [
             0.4444444444444444,
             "#bd3786"
            ],
            [
             0.5555555555555556,
             "#d8576b"
            ],
            [
             0.6666666666666666,
             "#ed7953"
            ],
            [
             0.7777777777777778,
             "#fb9f3a"
            ],
            [
             0.8888888888888888,
             "#fdca26"
            ],
            [
             1,
             "#f0f921"
            ]
           ],
           "sequentialminus": [
            [
             0,
             "#0d0887"
            ],
            [
             0.1111111111111111,
             "#46039f"
            ],
            [
             0.2222222222222222,
             "#7201a8"
            ],
            [
             0.3333333333333333,
             "#9c179e"
            ],
            [
             0.4444444444444444,
             "#bd3786"
            ],
            [
             0.5555555555555556,
             "#d8576b"
            ],
            [
             0.6666666666666666,
             "#ed7953"
            ],
            [
             0.7777777777777778,
             "#fb9f3a"
            ],
            [
             0.8888888888888888,
             "#fdca26"
            ],
            [
             1,
             "#f0f921"
            ]
           ]
          },
          "colorway": [
           "#636efa",
           "#EF553B",
           "#00cc96",
           "#ab63fa",
           "#FFA15A",
           "#19d3f3",
           "#FF6692",
           "#B6E880",
           "#FF97FF",
           "#FECB52"
          ],
          "font": {
           "color": "#2a3f5f"
          },
          "geo": {
           "bgcolor": "white",
           "lakecolor": "white",
           "landcolor": "#E5ECF6",
           "showlakes": true,
           "showland": true,
           "subunitcolor": "white"
          },
          "hoverlabel": {
           "align": "left"
          },
          "hovermode": "closest",
          "mapbox": {
           "style": "light"
          },
          "paper_bgcolor": "white",
          "plot_bgcolor": "#E5ECF6",
          "polar": {
           "angularaxis": {
            "gridcolor": "white",
            "linecolor": "white",
            "ticks": ""
           },
           "bgcolor": "#E5ECF6",
           "radialaxis": {
            "gridcolor": "white",
            "linecolor": "white",
            "ticks": ""
           }
          },
          "scene": {
           "xaxis": {
            "backgroundcolor": "#E5ECF6",
            "gridcolor": "white",
            "gridwidth": 2,
            "linecolor": "white",
            "showbackground": true,
            "ticks": "",
            "zerolinecolor": "white"
           },
           "yaxis": {
            "backgroundcolor": "#E5ECF6",
            "gridcolor": "white",
            "gridwidth": 2,
            "linecolor": "white",
            "showbackground": true,
            "ticks": "",
            "zerolinecolor": "white"
           },
           "zaxis": {
            "backgroundcolor": "#E5ECF6",
            "gridcolor": "white",
            "gridwidth": 2,
            "linecolor": "white",
            "showbackground": true,
            "ticks": "",
            "zerolinecolor": "white"
           }
          },
          "shapedefaults": {
           "line": {
            "color": "#2a3f5f"
           }
          },
          "ternary": {
           "aaxis": {
            "gridcolor": "white",
            "linecolor": "white",
            "ticks": ""
           },
           "baxis": {
            "gridcolor": "white",
            "linecolor": "white",
            "ticks": ""
           },
           "bgcolor": "#E5ECF6",
           "caxis": {
            "gridcolor": "white",
            "linecolor": "white",
            "ticks": ""
           }
          },
          "title": {
           "x": 0.05
          },
          "xaxis": {
           "automargin": true,
           "gridcolor": "white",
           "linecolor": "white",
           "ticks": "",
           "title": {
            "standoff": 15
           },
           "zerolinecolor": "white",
           "zerolinewidth": 2
          },
          "yaxis": {
           "automargin": true,
           "gridcolor": "white",
           "linecolor": "white",
           "ticks": "",
           "title": {
            "standoff": 15
           },
           "zerolinecolor": "white",
           "zerolinewidth": 2
          }
         }
        },
        "title": {
         "text": "LRU Page Replacement Process"
        },
        "width": 800
       }
      }
     },
     "metadata": {},
     "output_type": "display_data"
    }
   ],
   "source": [
    "import pandas as pd\n",
    "import plotly.graph_objects as go\n",
    "\n",
    "class LRUPageReplacement:\n",
    "    def __init__(self, num_frames):\n",
    "        self.num_frames = num_frames\n",
    "        self.frames = []\n",
    "        self.page_faults = 0\n",
    "        self.page_hits = 0\n",
    "        self.page_sequence = []\n",
    "        self.page_steps = []\n",
    "\n",
    "    def access_page(self, page):\n",
    "        step = {\"Page\": page, \"Hit/Fault\": \"Fault\"}\n",
    "        \n",
    "        # Track the current state of frames\n",
    "        frame_state = list(self.frames)\n",
    "        \n",
    "        if page in self.frames:\n",
    "            # Page hit: move the page to the most recently used\n",
    "            self.page_hits += 1\n",
    "            step[\"Hit/Fault\"] = \"Hit\"\n",
    "            self.page_steps.append((page, frame_state, \"Hit\"))\n",
    "            # Move the page to the end (most recently used)\n",
    "            self.frames.remove(page)\n",
    "            self.frames.append(page)\n",
    "            return\n",
    "        \n",
    "        # Page fault: add the page or replace the least recently used page\n",
    "        if len(self.frames) < self.num_frames:\n",
    "            self.frames.append(page)\n",
    "        else:\n",
    "            self.frames.pop(0)  # Remove the least recently used page\n",
    "            self.frames.append(page)\n",
    "        \n",
    "        self.page_faults += 1\n",
    "        self.page_steps.append((page, frame_state, \"Fault\"))\n",
    "\n",
    "    def simulate(self, page_sequence):\n",
    "        self.page_sequence = page_sequence\n",
    "        for page in page_sequence:\n",
    "            self.access_page(page)\n",
    "\n",
    "    def print_results(self):\n",
    "        print(f\"Page sequence: {self.page_sequence}\")\n",
    "        print(f\"Page hits: {self.page_hits}\")\n",
    "        print(f\"Page faults: {self.page_faults}\")\n",
    "        print(f\"Hit ratio: {self.page_hits / len(self.page_sequence):.2f}\")\n",
    "        print(f\"Fault ratio: {self.page_faults / len(self.page_sequence):.2f}\")\n",
    "\n",
    "    def display_table(self):\n",
    "        # Create DataFrame with steps for displaying\n",
    "        data = []\n",
    "        for page, frame_state, hit_fault in self.page_steps:\n",
    "            row = {'Page': page}\n",
    "            # Fill in frame columns (F1, F2, ..., Fn)\n",
    "            for i in range(self.num_frames):\n",
    "                row[f\"F{i+1}\"] = frame_state[i] if i < len(frame_state) else \"\"\n",
    "            row['Hit/Fault'] = hit_fault\n",
    "            data.append(row)\n",
    "\n",
    "        df = pd.DataFrame(data)\n",
    "\n",
    "        # Create Plotly table\n",
    "        fig = go.Figure(data=[go.Table(\n",
    "            header=dict(values=[\"Page\"] + [f\"F{i+1}\" for i in range(self.num_frames)] + [\"Hit/Fault\"],\n",
    "                        fill_color='paleturquoise', align='center'),\n",
    "            cells=dict(values=[df['Page']] + [df[f\"F{i+1}\"] for i in range(self.num_frames)] + [df['Hit/Fault']],\n",
    "                       fill_color='lavender', align='center'))\n",
    "        ])\n",
    "\n",
    "        # Update layout for better presentation\n",
    "        fig.update_layout(\n",
    "            title=\"LRU Page Replacement Process\",\n",
    "            height=400,\n",
    "            width=800\n",
    "        )\n",
    "\n",
    "        # Show the table\n",
    "        fig.show()\n",
    "\n",
    "\n",
    "# Get user input for the simulation\n",
    "num_frames = int(input(\"Enter the number of frames: \"))\n",
    "page_sequence_input = input(\"Enter the page reference string (space-separated): \")\n",
    "page_sequence = list(map(int, page_sequence_input.split()))\n",
    "\n",
    "# Initialize the LRU Page Replacement\n",
    "lru = LRUPageReplacement(num_frames)\n",
    "\n",
    "# Simulate the page replacement\n",
    "lru.simulate(page_sequence)\n",
    "\n",
    "# Print results\n",
    "lru.print_results()\n",
    "\n",
    "# Display the table showing the page replacement process\n",
    "lru.display_table()"
   ]
  }
 ],
 "metadata": {
  "kernelspec": {
   "display_name": "base",
   "language": "python",
   "name": "python3"
  },
  "language_info": {
   "codemirror_mode": {
    "name": "ipython",
    "version": 3
   },
   "file_extension": ".py",
   "mimetype": "text/x-python",
   "name": "python",
   "nbconvert_exporter": "python",
   "pygments_lexer": "ipython3",
   "version": "3.11.7"
  }
 },
 "nbformat": 4,
 "nbformat_minor": 2
}
